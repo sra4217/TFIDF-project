{
  "nbformat": 4,
  "nbformat_minor": 0,
  "metadata": {
    "colab": {
      "name": "Untitled2.ipynb",
      "provenance": [],
      "toc_visible": true,
      "authorship_tag": "ABX9TyPQvOun2+WB620k9Y1MteQX",
      "include_colab_link": true
    },
    "kernelspec": {
      "display_name": "Python 3",
      "name": "python3"
    }
  },
  "cells": [
    {
      "cell_type": "markdown",
      "metadata": {
        "id": "view-in-github",
        "colab_type": "text"
      },
      "source": [
        "<a href=\"https://colab.research.google.com/github/sra4217/TFIDF-project/blob/main/IMDB_movie_review.ipynb\" target=\"_parent\"><img src=\"https://colab.research.google.com/assets/colab-badge.svg\" alt=\"Open In Colab\"/></a>"
      ]
    },
    {
      "cell_type": "markdown",
      "metadata": {
        "id": "PeAJtgjklk0V"
      },
      "source": [
        "# New Section"
      ]
    },
    {
      "cell_type": "code",
      "metadata": {
        "colab": {
          "base_uri": "https://localhost:8080/"
        },
        "id": "gLIm2LzRDI-I",
        "outputId": "b6e3e7cb-860e-4225-bcbd-0d24d2475d2c"
      },
      "source": [
        "\n",
        "from bs4 import BeautifulSoup\n",
        "from nltk.corpus import stopwords\n",
        "from nltk.stem import WordNetLemmatizer\n",
        "from sklearn.feature_extraction.text import TfidfVectorizer\n",
        "import numpy as np\n",
        "import requests\n",
        "import re\n",
        "\n",
        "\n",
        "df = pd.read_csv('/IMDB Dataset.csv')\n",
        "df['review'] = df['review'].replace({'<br />':''},regex=True)\n",
        "df['sentiment'] = df['sentiment'].replace({'positive':1},regex=True)\n",
        "df['sentiment'] = df['sentiment'].replace({'negative':0},regex=True)\n",
        "#print(df['review'].head())\n",
        "\n",
        "#Cleaning the data\n",
        "\n",
        "# 1. Remove HTML tags\n",
        "text_only = df['review'].replace({'<br />':''},regex=True)\n",
        "\n",
        "\n",
        "\n",
        "REPLACE_NO_SPACE = re.compile(\"[.;:!\\'?,\\\"()\\[\\]]\")\n",
        "REPLACE_WITH_SPACE = re.compile(\"(<br\\s*/><br\\s*/>)|(\\-)|(\\/)\")\n",
        "\n",
        "def preprocess_reviews(reviews):\n",
        "    reviews = [REPLACE_NO_SPACE.sub(\"\", line.lower()) for line in reviews]\n",
        "    reviews = [REPLACE_WITH_SPACE.sub(\" \", line) for line in reviews]\n",
        "    \n",
        "    return reviews\n",
        "\n",
        "reviews_train_clean = preprocess_reviews(df['review'])\n",
        "from pandas import DataFrame\n",
        "\n",
        "\n",
        "\n",
        "df['review'] = DataFrame (reviews_train_clean,columns=['review'])\n",
        "print(df.head())\n",
        "\n",
        "review = np.array(df['review'])\n",
        "sentiments = np.array(df['sentiment'])\n",
        "# build train and test datasets\n",
        "\n",
        "from sklearn.model_selection import train_test_split    \n",
        "review_train, review_test, sentiment_train, sentiment_test = train_test_split(review, sentiments, test_size=0.5, random_state=4)\n",
        "from sklearn.feature_extraction.text import TfidfVectorizer\n",
        "\n",
        "tv = TfidfVectorizer(min_df=0.0, max_df=1.0, ngram_range=(1,2), sublinear_tf=True)\n",
        "tv_train_features = tv.fit_transform(review_train)\n",
        "tv_test_features = tv.transform(review_test)\n",
        "\n",
        "\n",
        "\n",
        "\n",
        "from sklearn.neighbors import KNeighborsClassifier\n",
        "classifier = KNeighborsClassifier(n_neighbors=5)\n",
        "classifier.fit(tv_train_features, sentiment_train)\n",
        "prediction = classifier.predict(tv_test_features)\n",
        "\n",
        "from sklearn.metrics import classification_report\n",
        "print(classification_report(sentiment_test,prediction))\n"
      ],
      "execution_count": 19,
      "outputs": [
        {
          "output_type": "stream",
          "text": [
            "                                              review  sentiment\n",
            "0  one of the other reviewers has mentioned that ...          1\n",
            "1  a wonderful little production the filming tech...          1\n",
            "2  i thought this was a wonderful way to spend ti...          1\n",
            "3  basically theres a family where a little boy j...          0\n",
            "4  petter matteis love in the time of money is a ...          1\n",
            "              precision    recall  f1-score   support\n",
            "\n",
            "           0       0.85      0.76      0.81     12536\n",
            "           1       0.79      0.87      0.82     12464\n",
            "\n",
            "    accuracy                           0.82     25000\n",
            "   macro avg       0.82      0.82      0.82     25000\n",
            "weighted avg       0.82      0.82      0.82     25000\n",
            "\n"
          ],
          "name": "stdout"
        }
      ]
    },
    {
      "cell_type": "code",
      "metadata": {
        "id": "bYys_I3XGKsF"
      },
      "source": [
        ""
      ],
      "execution_count": null,
      "outputs": []
    }
  ]
}